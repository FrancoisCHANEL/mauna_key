{
 "cells": [
  {
   "cell_type": "code",
   "execution_count": 107,
   "metadata": {},
   "outputs": [],
   "source": [
    "import pandas as pd\n",
    "import numpy as np\n",
    "from pathlib import Path\n",
    "\n",
    "import matplotlib.pyplot as plt\n",
    "from PIL import Image\n",
    "\n",
    "from collections import namedtuple"
   ]
  },
  {
   "cell_type": "markdown",
   "metadata": {},
   "source": [
    "### on check où se trouvent les données et ce qu'elles contiennnent"
   ]
  },
  {
   "cell_type": "code",
   "execution_count": 2,
   "metadata": {},
   "outputs": [],
   "source": [
    "tutu = Path('data') / 'TrainingSetImagesDir'"
   ]
  },
  {
   "cell_type": "code",
   "execution_count": 5,
   "metadata": {},
   "outputs": [
    {
     "data": {
      "text/plain": [
       "[PosixPath('data/TrainingSetImagesDir/im_150_55.png'),\n",
       " PosixPath('data/TrainingSetImagesDir/im_234_6.png'),\n",
       " PosixPath('data/TrainingSetImagesDir/im_185_12.png'),\n",
       " PosixPath('data/TrainingSetImagesDir/im_471_32.png'),\n",
       " PosixPath('data/TrainingSetImagesDir/im_218_48.png')]"
      ]
     },
     "execution_count": 5,
     "metadata": {},
     "output_type": "execute_result"
    }
   ],
   "source": [
    "my_paths = []\n",
    "for _file in tutu.iterdir():\n",
    "    my_paths.append(_file)\n",
    "\n",
    "my_paths[:5]"
   ]
  },
  {
   "cell_type": "code",
   "execution_count": 8,
   "metadata": {},
   "outputs": [],
   "source": [
    "tutu = Path('data')"
   ]
  },
  {
   "cell_type": "code",
   "execution_count": 9,
   "metadata": {},
   "outputs": [
    {
     "name": "stdout",
     "output_type": "stream",
     "text": [
      "data/TrainingSetImagesDir.zip\n",
      "data/Mauna_Kea_Supp_Material.zip\n",
      "data/TrainingSetImagesDir\n",
      "data/TrainingSet_20aimVO.csv\n",
      "data/additionnal_material\n",
      "data/test_data_order.csv\n",
      "data/TestSetImagesDir_fw4nYmL.zip\n",
      "data/.ipynb_checkpoints\n"
     ]
    }
   ],
   "source": [
    "for file in tutu.iterdir():\n",
    "    print(file)"
   ]
  },
  {
   "cell_type": "markdown",
   "metadata": {},
   "source": [
    "### Vérité terrain du jeu train"
   ]
  },
  {
   "cell_type": "code",
   "execution_count": 10,
   "metadata": {},
   "outputs": [],
   "source": [
    "tutu = Path('data') / 'TrainingSet_20aimVO.csv'\n",
    "df_y = pd.read_csv(tutu)"
   ]
  },
  {
   "cell_type": "code",
   "execution_count": 11,
   "metadata": {},
   "outputs": [
    {
     "data": {
      "text/html": [
       "<div>\n",
       "<style scoped>\n",
       "    .dataframe tbody tr th:only-of-type {\n",
       "        vertical-align: middle;\n",
       "    }\n",
       "\n",
       "    .dataframe tbody tr th {\n",
       "        vertical-align: top;\n",
       "    }\n",
       "\n",
       "    .dataframe thead th {\n",
       "        text-align: right;\n",
       "    }\n",
       "</style>\n",
       "<table border=\"1\" class=\"dataframe\">\n",
       "  <thead>\n",
       "    <tr style=\"text-align: right;\">\n",
       "      <th></th>\n",
       "      <th>image_filename</th>\n",
       "      <th>class_number</th>\n",
       "    </tr>\n",
       "  </thead>\n",
       "  <tbody>\n",
       "    <tr>\n",
       "      <th>0</th>\n",
       "      <td>im_4_0.png</td>\n",
       "      <td>0</td>\n",
       "    </tr>\n",
       "    <tr>\n",
       "      <th>1</th>\n",
       "      <td>im_21_0.png</td>\n",
       "      <td>0</td>\n",
       "    </tr>\n",
       "    <tr>\n",
       "      <th>2</th>\n",
       "      <td>im_9_0.png</td>\n",
       "      <td>0</td>\n",
       "    </tr>\n",
       "    <tr>\n",
       "      <th>3</th>\n",
       "      <td>im_8_0.png</td>\n",
       "      <td>0</td>\n",
       "    </tr>\n",
       "    <tr>\n",
       "      <th>4</th>\n",
       "      <td>im_15_0.png</td>\n",
       "      <td>0</td>\n",
       "    </tr>\n",
       "  </tbody>\n",
       "</table>\n",
       "</div>"
      ],
      "text/plain": [
       "  image_filename  class_number\n",
       "0     im_4_0.png             0\n",
       "1    im_21_0.png             0\n",
       "2     im_9_0.png             0\n",
       "3     im_8_0.png             0\n",
       "4    im_15_0.png             0"
      ]
     },
     "execution_count": 11,
     "metadata": {},
     "output_type": "execute_result"
    }
   ],
   "source": [
    "df_y.head()"
   ]
  },
  {
   "cell_type": "code",
   "execution_count": 12,
   "metadata": {},
   "outputs": [
    {
     "data": {
      "text/html": [
       "<div>\n",
       "<style scoped>\n",
       "    .dataframe tbody tr th:only-of-type {\n",
       "        vertical-align: middle;\n",
       "    }\n",
       "\n",
       "    .dataframe tbody tr th {\n",
       "        vertical-align: top;\n",
       "    }\n",
       "\n",
       "    .dataframe thead th {\n",
       "        text-align: right;\n",
       "    }\n",
       "</style>\n",
       "<table border=\"1\" class=\"dataframe\">\n",
       "  <thead>\n",
       "    <tr style=\"text-align: right;\">\n",
       "      <th></th>\n",
       "      <th>class_number</th>\n",
       "    </tr>\n",
       "    <tr>\n",
       "      <th>image_filename</th>\n",
       "      <th></th>\n",
       "    </tr>\n",
       "  </thead>\n",
       "  <tbody>\n",
       "    <tr>\n",
       "      <th>im_4_0</th>\n",
       "      <td>0</td>\n",
       "    </tr>\n",
       "    <tr>\n",
       "      <th>im_21_0</th>\n",
       "      <td>0</td>\n",
       "    </tr>\n",
       "    <tr>\n",
       "      <th>im_9_0</th>\n",
       "      <td>0</td>\n",
       "    </tr>\n",
       "    <tr>\n",
       "      <th>im_8_0</th>\n",
       "      <td>0</td>\n",
       "    </tr>\n",
       "    <tr>\n",
       "      <th>im_15_0</th>\n",
       "      <td>0</td>\n",
       "    </tr>\n",
       "  </tbody>\n",
       "</table>\n",
       "</div>"
      ],
      "text/plain": [
       "                class_number\n",
       "image_filename              \n",
       "im_4_0                     0\n",
       "im_21_0                    0\n",
       "im_9_0                     0\n",
       "im_8_0                     0\n",
       "im_15_0                    0"
      ]
     },
     "execution_count": 12,
     "metadata": {},
     "output_type": "execute_result"
    }
   ],
   "source": [
    "my_f = lambda x:x.split('.')[0]\n",
    "df_y.image_filename = df_y.image_filename.apply(my_f)\n",
    "df_y.set_index('image_filename', inplace=True)\n",
    "df_y.head()"
   ]
  },
  {
   "cell_type": "code",
   "execution_count": 13,
   "metadata": {},
   "outputs": [],
   "source": [
    "tutu = Path('data') / 'TrainingSetImagesDir'"
   ]
  },
  {
   "cell_type": "code",
   "execution_count": 14,
   "metadata": {},
   "outputs": [],
   "source": [
    "image_names = [str(file.stem) for file in tutu.iterdir()]"
   ]
  },
  {
   "cell_type": "code",
   "execution_count": 15,
   "metadata": {},
   "outputs": [
    {
     "data": {
      "text/plain": [
       "['im_150_55', 'im_234_6', 'im_185_12', 'im_471_32', 'im_218_48']"
      ]
     },
     "execution_count": 15,
     "metadata": {},
     "output_type": "execute_result"
    }
   ],
   "source": [
    "image_names[:5]"
   ]
  },
  {
   "cell_type": "code",
   "execution_count": 16,
   "metadata": {},
   "outputs": [
    {
     "data": {
      "text/plain": [
       "class_number    1\n",
       "Name: im_116_32, dtype: int64"
      ]
     },
     "execution_count": 16,
     "metadata": {},
     "output_type": "execute_result"
    }
   ],
   "source": [
    "df_y.loc[image_names[155]]"
   ]
  },
  {
   "cell_type": "code",
   "execution_count": 17,
   "metadata": {},
   "outputs": [],
   "source": [
    "image_full_name = [file for file in tutu.iterdir()]"
   ]
  },
  {
   "cell_type": "code",
   "execution_count": 18,
   "metadata": {},
   "outputs": [
    {
     "data": {
      "text/plain": [
       "[PosixPath('data/TrainingSetImagesDir/im_150_55.png'),\n",
       " PosixPath('data/TrainingSetImagesDir/im_234_6.png'),\n",
       " PosixPath('data/TrainingSetImagesDir/im_185_12.png'),\n",
       " PosixPath('data/TrainingSetImagesDir/im_471_32.png'),\n",
       " PosixPath('data/TrainingSetImagesDir/im_218_48.png')]"
      ]
     },
     "execution_count": 18,
     "metadata": {},
     "output_type": "execute_result"
    }
   ],
   "source": [
    "image_full_name[:5]"
   ]
  },
  {
   "cell_type": "markdown",
   "metadata": {},
   "source": [
    "### Il y a une redondance d'information débile dans les images noir & blanc encodées en 3 couches"
   ]
  },
  {
   "cell_type": "code",
   "execution_count": 137,
   "metadata": {},
   "outputs": [],
   "source": [
    "image_3 = plt.imread(str(image_full_name[3]), format='png')"
   ]
  },
  {
   "cell_type": "code",
   "execution_count": 127,
   "metadata": {},
   "outputs": [
    {
     "data": {
      "text/plain": [
       "(519, 521, 3)"
      ]
     },
     "execution_count": 127,
     "metadata": {},
     "output_type": "execute_result"
    }
   ],
   "source": [
    "image_3.shape"
   ]
  },
  {
   "cell_type": "code",
   "execution_count": 128,
   "metadata": {},
   "outputs": [
    {
     "data": {
      "text/plain": [
       "<matplotlib.image.AxesImage at 0x7f5531e38128>"
      ]
     },
     "execution_count": 128,
     "metadata": {},
     "output_type": "execute_result"
    },
    {
     "data": {
      "image/png": "[encoded data removed]",
      "text/plain": [
       "<Figure size 432x288 with 1 Axes>"
      ]
     },
     "metadata": {
      "needs_background": "light"
     },
     "output_type": "display_data"
    }
   ],
   "source": [
    "plt.imshow(image_3)"
   ]
  },
  {
   "cell_type": "code",
   "execution_count": 130,
   "metadata": {},
   "outputs": [
    {
     "name": "stdout",
     "output_type": "stream",
     "text": [
      "0\n"
     ]
    },
    {
     "data": {
      "image/png": "[encoded data removed]",
      "text/plain": [
       "<Figure size 432x288 with 1 Axes>"
      ]
     },
     "metadata": {
      "needs_background": "light"
     },
     "output_type": "display_data"
    },
    {
     "name": "stdout",
     "output_type": "stream",
     "text": [
      "1\n"
     ]
    },
    {
     "data": {
      "image/png": "[encoded data removed]",
      "text/plain": [
       "<Figure size 432x288 with 1 Axes>"
      ]
     },
     "metadata": {
      "needs_background": "light"
     },
     "output_type": "display_data"
    },
    {
     "name": "stdout",
     "output_type": "stream",
     "text": [
      "2\n"
     ]
    },
    {
     "data": {
      "image/png": "[encoded data removed]",
      "text/plain": [
       "<Figure size 432x288 with 1 Axes>"
      ]
     },
     "metadata": {
      "needs_background": "light"
     },
     "output_type": "display_data"
    }
   ],
   "source": [
    "for couche_vba in range(3):\n",
    "    print(couche_vba)\n",
    "    fig, ax = plt.subplots()\n",
    "    ax.imshow(image_3[:,:,couche_vba], cmap='gray')\n",
    "    plt.show()"
   ]
  },
  {
   "cell_type": "code",
   "execution_count": 116,
   "metadata": {},
   "outputs": [],
   "source": [
    "x_max, y_max, nb_layer = image_3.shape"
   ]
  },
  {
   "cell_type": "code",
   "execution_count": 122,
   "metadata": {},
   "outputs": [
    {
     "name": "stdout",
     "output_type": "stream",
     "text": [
      "couche 0 == couche 1 ? : True\n",
      "couche 1 == couche 2 ? : True\n"
     ]
    }
   ],
   "source": [
    "# vérifier qu'on a 3 fois la même info\n",
    "\n",
    "print(f'couche 0 == couche 1 ? : {np.all(image_3[:,:,0] == image_3[:,:,1])}')\n",
    "print(f'couche 1 == couche 2 ? : {np.all(image_3[:,:,1] == image_3[:,:,2])}')"
   ]
  },
  {
   "cell_type": "markdown",
   "metadata": {},
   "source": [
    "même problème avec PIL"
   ]
  },
  {
   "cell_type": "markdown",
   "metadata": {},
   "source": [
    "On vérifie que toutes les images ont la même taille, 3 couches, et que les couhces sont redondantes"
   ]
  },
  {
   "cell_type": "code",
   "execution_count": 140,
   "metadata": {},
   "outputs": [],
   "source": [
    "def redundant_layers(image):\n",
    "    res_bool = []\n",
    "    for layer in range(image.shape[2]):\n",
    "        ma_boule = np.all(image[:,:,0] == image[:,:,layer])\n",
    "        res_bool.append(ma_boule)\n",
    "    \n",
    "    return all(res_bool)"
   ]
  },
  {
   "cell_type": "code",
   "execution_count": 141,
   "metadata": {},
   "outputs": [
    {
     "data": {
      "text/plain": [
       "True"
      ]
     },
     "execution_count": 141,
     "metadata": {},
     "output_type": "execute_result"
    }
   ],
   "source": [
    "redundant_layers(image_3)"
   ]
  },
  {
   "cell_type": "code",
   "execution_count": 149,
   "metadata": {},
   "outputs": [],
   "source": [
    "my_sizes = []\n",
    "my_redundancy = []\n",
    "my_vals = []\n",
    "\n",
    "for image in image_full_name:\n",
    "    image = plt.imread(str(image))\n",
    "    my_sizes.append(image.shape)\n",
    "    my_redundancy.append(redundant_layers(image))\n",
    "    my_vals.append((np.min(image), np.max(image)))"
   ]
  },
  {
   "cell_type": "code",
   "execution_count": 150,
   "metadata": {},
   "outputs": [
    {
     "data": {
      "text/plain": [
       "{(519, 521, 3)}"
      ]
     },
     "execution_count": 150,
     "metadata": {},
     "output_type": "execute_result"
    }
   ],
   "source": [
    "set(my_sizes)"
   ]
  },
  {
   "cell_type": "code",
   "execution_count": 151,
   "metadata": {},
   "outputs": [
    {
     "data": {
      "text/plain": [
       "True"
      ]
     },
     "execution_count": 151,
     "metadata": {},
     "output_type": "execute_result"
    }
   ],
   "source": [
    "all(my_redundancy)"
   ]
  },
  {
   "cell_type": "markdown",
   "metadata": {},
   "source": [
    "avec plt.imread on obtient un vieux truc entre 0 et 1"
   ]
  },
  {
   "cell_type": "code",
   "execution_count": 152,
   "metadata": {},
   "outputs": [
    {
     "data": {
      "text/plain": [
       "{(0.0, 0.1254902),\n",
       " (0.0, 0.23529412),\n",
       " (0.0, 0.26666668),\n",
       " (0.0, 0.31764707),\n",
       " (0.0, 0.40392157),\n",
       " (0.0, 0.45882353),\n",
       " (0.0, 0.4627451),\n",
       " (0.0, 0.48235294),\n",
       " (0.0, 0.54509807),\n",
       " (0.0, 0.5882353),\n",
       " (0.0, 0.5921569),\n",
       " (0.0, 0.59607846),\n",
       " (0.0, 0.60784316),\n",
       " (0.0, 0.6156863),\n",
       " (0.0, 0.6784314),\n",
       " (0.0, 0.69803923),\n",
       " (0.0, 0.7019608),\n",
       " (0.0, 0.7372549),\n",
       " (0.0, 0.7529412),\n",
       " (0.0, 0.77254903),\n",
       " (0.0, 0.7882353),\n",
       " (0.0, 0.7921569),\n",
       " (0.0, 0.79607844),\n",
       " (0.0, 0.8),\n",
       " (0.0, 0.80784315),\n",
       " (0.0, 0.8117647),\n",
       " (0.0, 0.81960785),\n",
       " (0.0, 0.83137256),\n",
       " (0.0, 0.8352941),\n",
       " (0.0, 0.84313726),\n",
       " (0.0, 0.84705883),\n",
       " (0.0, 0.85490197),\n",
       " (0.0, 0.85882354),\n",
       " (0.0, 0.8627451),\n",
       " (0.0, 0.87058824),\n",
       " (0.0, 0.8745098),\n",
       " (0.0, 0.8784314),\n",
       " (0.0, 0.88235295),\n",
       " (0.0, 0.8862745),\n",
       " (0.0, 0.89411765),\n",
       " (0.0, 0.8980392),\n",
       " (0.0, 0.90588236),\n",
       " (0.0, 0.9098039),\n",
       " (0.0, 0.9137255),\n",
       " (0.0, 0.91764706),\n",
       " (0.0, 0.92156863),\n",
       " (0.0, 0.9254902),\n",
       " (0.0, 0.92941177),\n",
       " (0.0, 0.93333334),\n",
       " (0.0, 0.9372549),\n",
       " (0.0, 0.9411765),\n",
       " (0.0, 0.94509804),\n",
       " (0.0, 0.9490196),\n",
       " (0.0, 0.9529412),\n",
       " (0.0, 0.95686275),\n",
       " (0.0, 0.9607843),\n",
       " (0.0, 0.9647059),\n",
       " (0.0, 0.96862745),\n",
       " (0.0, 0.972549),\n",
       " (0.0, 0.9764706),\n",
       " (0.0, 0.98039216),\n",
       " (0.0, 0.9843137),\n",
       " (0.0, 0.9882353),\n",
       " (0.0, 0.99215686),\n",
       " (0.0, 0.99607843),\n",
       " (0.0, 1.0)}"
      ]
     },
     "execution_count": 152,
     "metadata": {},
     "output_type": "execute_result"
    }
   ],
   "source": [
    "set(my_vals)"
   ]
  },
  {
   "cell_type": "code",
   "execution_count": 148,
   "metadata": {},
   "outputs": [
    {
     "data": {
      "text/plain": [
       "1.0"
      ]
     },
     "execution_count": 148,
     "metadata": {},
     "output_type": "execute_result"
    }
   ],
   "source": [
    "np.max(image)"
   ]
  },
  {
   "cell_type": "code",
   "execution_count": 19,
   "metadata": {},
   "outputs": [],
   "source": [
    "image_3 = Image.open(image_full_name[3])"
   ]
  },
  {
   "cell_type": "code",
   "execution_count": 20,
   "metadata": {},
   "outputs": [
    {
     "data": {
      "text/plain": [
       "{'im': None,\n",
       " 'mode': 'RGB',\n",
       " '_size': (521, 519),\n",
       " 'palette': None,\n",
       " 'info': {},\n",
       " 'category': 0,\n",
       " 'readonly': 1,\n",
       " 'pyaccess': None,\n",
       " '_min_frame': 0,\n",
       " 'tile': [('zip', (0, 0, 521, 519), 41, 'RGB')],\n",
       " 'decoderconfig': (),\n",
       " 'decodermaxblock': 65536,\n",
       " 'fp': <_io.BufferedReader name='/home/francoischanel/repoGit/mauna_key/data/TrainingSetImagesDir/im_471_32.png'>,\n",
       " 'filename': '/home/francoischanel/repoGit/mauna_key/data/TrainingSetImagesDir/im_471_32.png',\n",
       " '_exclusive_fp': True,\n",
       " 'png': <PIL.PngImagePlugin.PngStream at 0x7f49a25b0198>,\n",
       " 'text': {},\n",
       " '_PngImageFile__idat': 8192}"
      ]
     },
     "execution_count": 20,
     "metadata": {},
     "output_type": "execute_result"
    }
   ],
   "source": [
    "image_3.__dict__"
   ]
  },
  {
   "cell_type": "code",
   "execution_count": 21,
   "metadata": {},
   "outputs": [
    {
     "data": {
      "text/plain": [
       "(519, 521, 3)"
      ]
     },
     "execution_count": 21,
     "metadata": {},
     "output_type": "execute_result"
    }
   ],
   "source": [
    "np.array(image_3).shape"
   ]
  },
  {
   "cell_type": "code",
   "execution_count": 23,
   "metadata": {},
   "outputs": [
    {
     "data": {
      "text/plain": [
       "PIL.PngImagePlugin.PngImageFile"
      ]
     },
     "execution_count": 23,
     "metadata": {},
     "output_type": "execute_result"
    }
   ],
   "source": [
    "type(image_3)"
   ]
  },
  {
   "cell_type": "markdown",
   "metadata": {},
   "source": [
    "idem, elles ont absurdement 3 couches identiques mêmes dépiles par PIL"
   ]
  },
  {
   "cell_type": "code",
   "execution_count": 153,
   "metadata": {},
   "outputs": [],
   "source": [
    "my_sizes = []\n",
    "my_redundancy = []\n",
    "my_vals = []\n",
    "\n",
    "for image in image_full_name:\n",
    "    image = Image.open(image)\n",
    "    image = np.array(image)\n",
    "    my_sizes.append(image.shape)\n",
    "    my_redundancy.append(redundant_layers(image))\n",
    "    my_vals.append((np.min(image), np.max(image)))"
   ]
  },
  {
   "cell_type": "code",
   "execution_count": 154,
   "metadata": {},
   "outputs": [
    {
     "data": {
      "text/plain": [
       "{(519, 521, 3)}"
      ]
     },
     "execution_count": 154,
     "metadata": {},
     "output_type": "execute_result"
    }
   ],
   "source": [
    "set(my_sizes)"
   ]
  },
  {
   "cell_type": "code",
   "execution_count": 155,
   "metadata": {},
   "outputs": [
    {
     "data": {
      "text/plain": [
       "True"
      ]
     },
     "execution_count": 155,
     "metadata": {},
     "output_type": "execute_result"
    }
   ],
   "source": [
    "all(my_redundancy)"
   ]
  },
  {
   "cell_type": "code",
   "execution_count": 157,
   "metadata": {},
   "outputs": [
    {
     "data": {
      "text/plain": [
       "{(0, 32),\n",
       " (0, 60),\n",
       " (0, 68),\n",
       " (0, 81),\n",
       " (0, 103),\n",
       " (0, 117),\n",
       " (0, 118),\n",
       " (0, 123),\n",
       " (0, 139),\n",
       " (0, 150),\n",
       " (0, 151),\n",
       " (0, 152),\n",
       " (0, 155),\n",
       " (0, 157),\n",
       " (0, 173),\n",
       " (0, 178),\n",
       " (0, 179),\n",
       " (0, 188),\n",
       " (0, 192),\n",
       " (0, 197),\n",
       " (0, 201),\n",
       " (0, 202),\n",
       " (0, 203),\n",
       " (0, 204),\n",
       " (0, 206),\n",
       " (0, 207),\n",
       " (0, 209),\n",
       " (0, 212),\n",
       " (0, 213),\n",
       " (0, 215),\n",
       " (0, 216),\n",
       " (0, 218),\n",
       " (0, 219),\n",
       " (0, 220),\n",
       " (0, 222),\n",
       " (0, 223),\n",
       " (0, 224),\n",
       " (0, 225),\n",
       " (0, 226),\n",
       " (0, 228),\n",
       " (0, 229),\n",
       " (0, 231),\n",
       " (0, 232),\n",
       " (0, 233),\n",
       " (0, 234),\n",
       " (0, 235),\n",
       " (0, 236),\n",
       " (0, 237),\n",
       " (0, 238),\n",
       " (0, 239),\n",
       " (0, 240),\n",
       " (0, 241),\n",
       " (0, 242),\n",
       " (0, 243),\n",
       " (0, 244),\n",
       " (0, 245),\n",
       " (0, 246),\n",
       " (0, 247),\n",
       " (0, 248),\n",
       " (0, 249),\n",
       " (0, 250),\n",
       " (0, 251),\n",
       " (0, 252),\n",
       " (0, 253),\n",
       " (0, 254),\n",
       " (0, 255)}"
      ]
     },
     "execution_count": 157,
     "metadata": {},
     "output_type": "execute_result"
    }
   ],
   "source": [
    "set(my_vals)"
   ]
  },
  {
   "cell_type": "markdown",
   "metadata": {},
   "source": [
    "> en important avec PIL, on a bien un truc propre en 255 nuances de gris"
   ]
  },
  {
   "cell_type": "code",
   "execution_count": null,
   "metadata": {},
   "outputs": [],
   "source": [
    "my_image = Image.open()"
   ]
  },
  {
   "cell_type": "code",
   "execution_count": 24,
   "metadata": {},
   "outputs": [],
   "source": [
    "from PIL import Image, ImageSequence"
   ]
  },
  {
   "cell_type": "code",
   "execution_count": 29,
   "metadata": {},
   "outputs": [],
   "source": [
    "layers = [frame.copy() for frame in ImageSequence.Iterator(image_3)]"
   ]
  },
  {
   "cell_type": "code",
   "execution_count": 37,
   "metadata": {},
   "outputs": [
    {
     "data": {
      "text/plain": [
       "1"
      ]
     },
     "execution_count": 37,
     "metadata": {},
     "output_type": "execute_result"
    }
   ],
   "source": [
    "len(layers)"
   ]
  },
  {
   "cell_type": "code",
   "execution_count": 36,
   "metadata": {},
   "outputs": [
    {
     "data": {
      "text/plain": [
       "('R', 'G', 'B')"
      ]
     },
     "execution_count": 36,
     "metadata": {},
     "output_type": "execute_result"
    }
   ],
   "source": [
    "image_3.getbands()"
   ]
  },
  {
   "cell_type": "code",
   "execution_count": 38,
   "metadata": {},
   "outputs": [
    {
     "data": {
      "text/plain": [
       "{'im': <ImagingCore at 0x7f49a23d76f0>,\n",
       " 'mode': 'RGB',\n",
       " '_size': (521, 519),\n",
       " 'palette': None,\n",
       " 'info': {},\n",
       " 'category': 0,\n",
       " 'readonly': 0,\n",
       " 'pyaccess': None,\n",
       " '_min_frame': 0,\n",
       " 'tile': [],\n",
       " 'decoderconfig': (),\n",
       " 'decodermaxblock': 65536,\n",
       " 'fp': None,\n",
       " 'filename': '/home/francoischanel/repoGit/mauna_key/data/TrainingSetImagesDir/im_471_32.png',\n",
       " '_exclusive_fp': True,\n",
       " 'png': None,\n",
       " 'text': {},\n",
       " '_PngImageFile__idat': 0,\n",
       " 'map': None,\n",
       " 'encoderinfo': {},\n",
       " 'encoderconfig': (False, -1, -1, b'')}"
      ]
     },
     "execution_count": 38,
     "metadata": {},
     "output_type": "execute_result"
    }
   ],
   "source": [
    "image_3.__dict__"
   ]
  },
  {
   "cell_type": "code",
   "execution_count": 41,
   "metadata": {},
   "outputs": [
    {
     "data": {
      "text/plain": [
       "('R', 'G', 'B')"
      ]
     },
     "execution_count": 41,
     "metadata": {},
     "output_type": "execute_result"
    }
   ],
   "source": [
    "image_3.getbands()"
   ]
  },
  {
   "cell_type": "code",
   "execution_count": 45,
   "metadata": {},
   "outputs": [
    {
     "data": {
      "text/plain": [
       "[(4638, (255, 255, 255)),\n",
       " (937, (253, 253, 253)),\n",
       " (440, (251, 251, 251)),\n",
       " (405, (249, 249, 249)),\n",
       " (323, (247, 247, 247))]"
      ]
     },
     "execution_count": 45,
     "metadata": {},
     "output_type": "execute_result"
    }
   ],
   "source": [
    "image_3.getcolors()[:5]"
   ]
  },
  {
   "cell_type": "code",
   "execution_count": 48,
   "metadata": {},
   "outputs": [
    {
     "data": {
      "text/plain": [
       "<ImagingCore at 0x7f49a1c12990>"
      ]
     },
     "execution_count": 48,
     "metadata": {},
     "output_type": "execute_result"
    }
   ],
   "source": [
    "image_3.getdata(band=0)"
   ]
  },
  {
   "cell_type": "code",
   "execution_count": 49,
   "metadata": {},
   "outputs": [
    {
     "data": {
      "text/plain": [
       "array([0, 0, 0, ..., 0, 0, 0])"
      ]
     },
     "execution_count": 49,
     "metadata": {},
     "output_type": "execute_result"
    }
   ],
   "source": [
    "np.array(image_3.getdata(band=0))"
   ]
  },
  {
   "cell_type": "code",
   "execution_count": 50,
   "metadata": {},
   "outputs": [
    {
     "data": {
      "text/plain": [
       "0"
      ]
     },
     "execution_count": 50,
     "metadata": {},
     "output_type": "execute_result"
    }
   ],
   "source": [
    "image_3.tell()"
   ]
  },
  {
   "cell_type": "code",
   "execution_count": 51,
   "metadata": {},
   "outputs": [
    {
     "data": {
      "text/plain": [
       "(<PIL.Image.Image image mode=L size=521x519 at 0x7F49A299BD30>,\n",
       " <PIL.Image.Image image mode=L size=521x519 at 0x7F49A299BC88>,\n",
       " <PIL.Image.Image image mode=L size=521x519 at 0x7F49A1FE34E0>)"
      ]
     },
     "execution_count": 51,
     "metadata": {},
     "output_type": "execute_result"
    }
   ],
   "source": [
    "image_3.split()"
   ]
  },
  {
   "cell_type": "code",
   "execution_count": 52,
   "metadata": {},
   "outputs": [],
   "source": [
    "first_band = image_3.split()[0]"
   ]
  },
  {
   "cell_type": "code",
   "execution_count": 53,
   "metadata": {},
   "outputs": [
    {
     "data": {
      "text/plain": [
       "PIL.PngImagePlugin.PngImageFile"
      ]
     },
     "execution_count": 53,
     "metadata": {},
     "output_type": "execute_result"
    }
   ],
   "source": [
    "type(image_3)"
   ]
  },
  {
   "cell_type": "code",
   "execution_count": 54,
   "metadata": {},
   "outputs": [
    {
     "data": {
      "text/plain": [
       "PIL.Image.Image"
      ]
     },
     "execution_count": 54,
     "metadata": {},
     "output_type": "execute_result"
    }
   ],
   "source": [
    "type(first_band)"
   ]
  },
  {
   "cell_type": "code",
   "execution_count": 55,
   "metadata": {},
   "outputs": [
    {
     "data": {
      "image/png": "[encoded data removed]",
      "text/plain": [
       "<PIL.Image.Image image mode=L size=521x519 at 0x7F49A1D1B0F0>"
      ]
     },
     "execution_count": 55,
     "metadata": {},
     "output_type": "execute_result"
    }
   ],
   "source": [
    "first_band"
   ]
  },
  {
   "cell_type": "code",
   "execution_count": 56,
   "metadata": {},
   "outputs": [
    {
     "data": {
      "text/plain": [
       "array([[0, 0, 0, ..., 0, 0, 0],\n",
       "       [0, 0, 0, ..., 0, 0, 0],\n",
       "       [0, 0, 0, ..., 0, 0, 0],\n",
       "       ...,\n",
       "       [0, 0, 0, ..., 0, 0, 0],\n",
       "       [0, 0, 0, ..., 0, 0, 0],\n",
       "       [0, 0, 0, ..., 0, 0, 0]], dtype=uint8)"
      ]
     },
     "execution_count": 56,
     "metadata": {},
     "output_type": "execute_result"
    }
   ],
   "source": [
    "np.array(first_band)"
   ]
  },
  {
   "cell_type": "code",
   "execution_count": 65,
   "metadata": {},
   "outputs": [
    {
     "data": {
      "text/plain": [
       "(519, 521)"
      ]
     },
     "execution_count": 65,
     "metadata": {},
     "output_type": "execute_result"
    }
   ],
   "source": [
    "np.array(first_band).shape"
   ]
  },
  {
   "cell_type": "code",
   "execution_count": 57,
   "metadata": {},
   "outputs": [
    {
     "data": {
      "text/plain": [
       "{'im': <ImagingCore at 0x7f49a2331cd0>,\n",
       " 'mode': 'L',\n",
       " '_size': (521, 519),\n",
       " 'palette': None,\n",
       " 'info': {},\n",
       " 'category': 0,\n",
       " 'readonly': 0,\n",
       " 'pyaccess': None,\n",
       " 'encoderinfo': {},\n",
       " 'encoderconfig': (False, -1, -1, b'')}"
      ]
     },
     "execution_count": 57,
     "metadata": {},
     "output_type": "execute_result"
    }
   ],
   "source": [
    "first_band.__dict__"
   ]
  },
  {
   "cell_type": "code",
   "execution_count": 58,
   "metadata": {},
   "outputs": [
    {
     "data": {
      "text/plain": [
       "255"
      ]
     },
     "execution_count": 58,
     "metadata": {},
     "output_type": "execute_result"
    }
   ],
   "source": [
    "np.array(first_band).max()"
   ]
  },
  {
   "cell_type": "code",
   "execution_count": 62,
   "metadata": {},
   "outputs": [
    {
     "data": {
      "text/plain": [
       "521"
      ]
     },
     "execution_count": 62,
     "metadata": {},
     "output_type": "execute_result"
    }
   ],
   "source": [
    "image_3.width"
   ]
  },
  {
   "cell_type": "code",
   "execution_count": 63,
   "metadata": {},
   "outputs": [
    {
     "data": {
      "text/plain": [
       "521"
      ]
     },
     "execution_count": 63,
     "metadata": {},
     "output_type": "execute_result"
    }
   ],
   "source": [
    "first_band.width"
   ]
  },
  {
   "cell_type": "code",
   "execution_count": 64,
   "metadata": {},
   "outputs": [
    {
     "data": {
      "text/plain": [
       "{}"
      ]
     },
     "execution_count": 64,
     "metadata": {},
     "output_type": "execute_result"
    }
   ],
   "source": [
    "image_3.info"
   ]
  },
  {
   "cell_type": "markdown",
   "metadata": {},
   "source": [
    "TODO : \n",
    "- ouvrir toutes les images avec PIL.Image.open\n",
    "- extraire le band 1 (vu qu'on sait qu'ils sont identiques)\n",
    "- coller ça dans un nouveau dossier en conservant le nom de l'image\n",
    "- extraire ensuite les np.array, reshape et tout fusionner en un seul X_train"
   ]
  },
  {
   "cell_type": "code",
   "execution_count": 67,
   "metadata": {},
   "outputs": [],
   "source": [
    "_path = image_full_name[5]"
   ]
  },
  {
   "cell_type": "code",
   "execution_count": 72,
   "metadata": {},
   "outputs": [
    {
     "data": {
      "text/plain": [
       "('data', 'TrainingSetImagesDir', 'im_203_42.png')"
      ]
     },
     "execution_count": 72,
     "metadata": {},
     "output_type": "execute_result"
    }
   ],
   "source": [
    "_path.parts"
   ]
  },
  {
   "cell_type": "code",
   "execution_count": 73,
   "metadata": {},
   "outputs": [
    {
     "data": {
      "text/plain": [
       "''"
      ]
     },
     "execution_count": 73,
     "metadata": {},
     "output_type": "execute_result"
    }
   ],
   "source": [
    "_path.anchor"
   ]
  },
  {
   "cell_type": "code",
   "execution_count": 75,
   "metadata": {},
   "outputs": [
    {
     "data": {
      "text/plain": [
       "PosixPath('data')"
      ]
     },
     "execution_count": 75,
     "metadata": {},
     "output_type": "execute_result"
    }
   ],
   "source": [
    "_path.parent.parent"
   ]
  },
  {
   "cell_type": "code",
   "execution_count": 76,
   "metadata": {},
   "outputs": [
    {
     "data": {
      "text/plain": [
       "<PosixPath.parents>"
      ]
     },
     "execution_count": 76,
     "metadata": {},
     "output_type": "execute_result"
    }
   ],
   "source": [
    "_path.parents"
   ]
  },
  {
   "cell_type": "code",
   "execution_count": 77,
   "metadata": {},
   "outputs": [
    {
     "data": {
      "text/plain": [
       "'im_203_42'"
      ]
     },
     "execution_count": 77,
     "metadata": {},
     "output_type": "execute_result"
    }
   ],
   "source": [
    "_path.stem"
   ]
  },
  {
   "cell_type": "code",
   "execution_count": 93,
   "metadata": {},
   "outputs": [
    {
     "data": {
      "text/plain": [
       "'.png'"
      ]
     },
     "execution_count": 93,
     "metadata": {},
     "output_type": "execute_result"
    }
   ],
   "source": [
    "_path.suffix"
   ]
  },
  {
   "cell_type": "code",
   "execution_count": 94,
   "metadata": {},
   "outputs": [
    {
     "data": {
      "text/plain": [
       "'im_203_42.png'"
      ]
     },
     "execution_count": 94,
     "metadata": {},
     "output_type": "execute_result"
    }
   ],
   "source": [
    "_path.name"
   ]
  },
  {
   "cell_type": "code",
   "execution_count": 97,
   "metadata": {},
   "outputs": [],
   "source": [
    "my_repo = Path('data') / 'X_train_y_train'"
   ]
  },
  {
   "cell_type": "code",
   "execution_count": 98,
   "metadata": {},
   "outputs": [],
   "source": [
    "my_name = my_repo / 'tutu.png'"
   ]
  },
  {
   "cell_type": "code",
   "execution_count": 99,
   "metadata": {},
   "outputs": [],
   "source": [
    "first_band.save(fp=my_name)"
   ]
  },
  {
   "cell_type": "code",
   "execution_count": 90,
   "metadata": {},
   "outputs": [],
   "source": [
    "tutu = Image.open(my_name)"
   ]
  },
  {
   "cell_type": "code",
   "execution_count": 92,
   "metadata": {},
   "outputs": [
    {
     "data": {
      "text/plain": [
       "(519, 521)"
      ]
     },
     "execution_count": 92,
     "metadata": {},
     "output_type": "execute_result"
    }
   ],
   "source": [
    "np.array(tutu).shape"
   ]
  },
  {
   "cell_type": "code",
   "execution_count": 100,
   "metadata": {},
   "outputs": [],
   "source": [
    "tutu = Image.open(my_name)"
   ]
  },
  {
   "cell_type": "code",
   "execution_count": 101,
   "metadata": {},
   "outputs": [
    {
     "data": {
      "text/plain": [
       "PIL.PngImagePlugin.PngImageFile"
      ]
     },
     "execution_count": 101,
     "metadata": {},
     "output_type": "execute_result"
    }
   ],
   "source": [
    "type(tutu)"
   ]
  },
  {
   "cell_type": "code",
   "execution_count": 102,
   "metadata": {},
   "outputs": [
    {
     "data": {
      "text/plain": [
       "PIL.Image.Image"
      ]
     },
     "execution_count": 102,
     "metadata": {},
     "output_type": "execute_result"
    }
   ],
   "source": [
    "type(first_band)"
   ]
  },
  {
   "cell_type": "code",
   "execution_count": 103,
   "metadata": {},
   "outputs": [
    {
     "data": {
      "text/plain": [
       "{'im': None,\n",
       " 'mode': 'L',\n",
       " '_size': (521, 519),\n",
       " 'palette': None,\n",
       " 'info': {},\n",
       " 'category': 0,\n",
       " 'readonly': 1,\n",
       " 'pyaccess': None,\n",
       " '_min_frame': 0,\n",
       " 'tile': [('zip', (0, 0, 521, 519), 41, 'L')],\n",
       " 'decoderconfig': (),\n",
       " 'decodermaxblock': 65536,\n",
       " 'fp': <_io.BufferedReader name='/home/francoischanel/repoGit/mauna_key/data/X_train_y_train/tutu.png'>,\n",
       " 'filename': '/home/francoischanel/repoGit/mauna_key/data/X_train_y_train/tutu.png',\n",
       " '_exclusive_fp': True,\n",
       " 'png': <PIL.PngImagePlugin.PngStream at 0x7f49a16bf4a8>,\n",
       " 'text': {},\n",
       " '_PngImageFile__idat': 65536}"
      ]
     },
     "execution_count": 103,
     "metadata": {},
     "output_type": "execute_result"
    }
   ],
   "source": [
    "tutu.__dict__"
   ]
  },
  {
   "cell_type": "code",
   "execution_count": 104,
   "metadata": {},
   "outputs": [
    {
     "data": {
      "text/plain": [
       "{'im': <ImagingCore at 0x7f49a2331cd0>,\n",
       " 'mode': 'L',\n",
       " '_size': (521, 519),\n",
       " 'palette': None,\n",
       " 'info': {},\n",
       " 'category': 0,\n",
       " 'readonly': 0,\n",
       " 'pyaccess': None,\n",
       " 'encoderinfo': {},\n",
       " 'encoderconfig': (False, -1, -1, b'')}"
      ]
     },
     "execution_count": 104,
     "metadata": {},
     "output_type": "execute_result"
    }
   ],
   "source": [
    "first_band.__dict__m"
   ]
  },
  {
   "cell_type": "code",
   "execution_count": null,
   "metadata": {},
   "outputs": [],
   "source": [
    "flatten_images = {}\n",
    "my_root = Path('data') / 'X_train_y_train'\n",
    "\n",
    "\n",
    "for image_path in image_full_name:\n",
    "    image_3_couches = Image.open(image_path)\n",
    "    name = image_path.name\n",
    "    stem = image_path.stem\n",
    "    first_layer = image_3_couches.split()[0]\n",
    "    first_layer.save(my_root / name)\n",
    "    _array = np.array(first_layer)\n",
    "    ii, jj = _array.shape\n",
    "    _array = _array.reshape(ii, jj, 1)\n",
    "    flatten_images.update({stem:_array})    "
   ]
  },
  {
   "cell_type": "code",
   "execution_count": null,
   "metadata": {},
   "outputs": [],
   "source": []
  },
  {
   "cell_type": "code",
   "execution_count": 129,
   "metadata": {},
   "outputs": [],
   "source": [
    "aa = np.random.randint(0,5,15).reshape(3, 5)\n",
    "bb = np.random.randint(0,5,15).reshape(3, 5)"
   ]
  },
  {
   "cell_type": "code",
   "execution_count": 130,
   "metadata": {},
   "outputs": [
    {
     "data": {
      "text/plain": [
       "(3, 5)"
      ]
     },
     "execution_count": 130,
     "metadata": {},
     "output_type": "execute_result"
    }
   ],
   "source": [
    "aa.shape"
   ]
  },
  {
   "cell_type": "code",
   "execution_count": 131,
   "metadata": {},
   "outputs": [],
   "source": [
    "cc = np.array([aa, bb])"
   ]
  },
  {
   "cell_type": "code",
   "execution_count": 132,
   "metadata": {},
   "outputs": [
    {
     "data": {
      "text/plain": [
       "(2, 3, 5)"
      ]
     },
     "execution_count": 132,
     "metadata": {},
     "output_type": "execute_result"
    }
   ],
   "source": [
    "cc.shape"
   ]
  },
  {
   "cell_type": "code",
   "execution_count": 133,
   "metadata": {},
   "outputs": [
    {
     "data": {
      "text/plain": [
       "array([[4, 3, 4, 3, 3],\n",
       "       [2, 1, 1, 4, 2],\n",
       "       [4, 1, 4, 4, 1]])"
      ]
     },
     "execution_count": 133,
     "metadata": {},
     "output_type": "execute_result"
    }
   ],
   "source": [
    "aa"
   ]
  },
  {
   "cell_type": "code",
   "execution_count": 134,
   "metadata": {},
   "outputs": [
    {
     "data": {
      "text/plain": [
       "array([[2, 1, 2, 2, 3],\n",
       "       [2, 3, 4, 2, 0],\n",
       "       [0, 0, 3, 4, 1]])"
      ]
     },
     "execution_count": 134,
     "metadata": {},
     "output_type": "execute_result"
    }
   ],
   "source": [
    "bb"
   ]
  },
  {
   "cell_type": "code",
   "execution_count": 135,
   "metadata": {},
   "outputs": [
    {
     "data": {
      "text/plain": [
       "array([[[4, 3, 4, 3, 3],\n",
       "        [2, 1, 1, 4, 2],\n",
       "        [4, 1, 4, 4, 1]],\n",
       "\n",
       "       [[2, 1, 2, 2, 3],\n",
       "        [2, 3, 4, 2, 0],\n",
       "        [0, 0, 3, 4, 1]]])"
      ]
     },
     "execution_count": 135,
     "metadata": {},
     "output_type": "execute_result"
    }
   ],
   "source": [
    "cc"
   ]
  },
  {
   "cell_type": "code",
   "execution_count": 136,
   "metadata": {},
   "outputs": [],
   "source": [
    "cc = cc.reshape(2, 3, 5, 1)"
   ]
  },
  {
   "cell_type": "code",
   "execution_count": 137,
   "metadata": {},
   "outputs": [
    {
     "data": {
      "text/plain": [
       "(2, 3, 5, 1)"
      ]
     },
     "execution_count": 137,
     "metadata": {},
     "output_type": "execute_result"
    }
   ],
   "source": [
    "cc.shape"
   ]
  },
  {
   "cell_type": "code",
   "execution_count": 145,
   "metadata": {},
   "outputs": [
    {
     "data": {
      "text/plain": [
       "(3, 5)"
      ]
     },
     "execution_count": 145,
     "metadata": {},
     "output_type": "execute_result"
    }
   ],
   "source": [
    "cc[0, :,:,0].shape"
   ]
  },
  {
   "cell_type": "code",
   "execution_count": null,
   "metadata": {},
   "outputs": [],
   "source": []
  }
 ],
 "metadata": {
  "kernelspec": {
   "display_name": "Python [conda env:dssp_env]",
   "language": "python",
   "name": "conda-env-dssp_env-py"
  },
  "language_info": {
   "codemirror_mode": {
    "name": "ipython",
    "version": 3
   },
   "file_extension": ".py",
   "mimetype": "text/x-python",
   "name": "python",
   "nbconvert_exporter": "python",
   "pygments_lexer": "ipython3",
   "version": "3.7.1"
  }
 },
 "nbformat": 4,
 "nbformat_minor": 2
}
